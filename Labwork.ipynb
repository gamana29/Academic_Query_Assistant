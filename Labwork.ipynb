{
  "nbformat": 4,
  "nbformat_minor": 0,
  "metadata": {
    "colab": {
      "provenance": [],
      "authorship_tag": "ABX9TyMERO9b3Bs5WmcjclVGhkIZ",
      "include_colab_link": true
    },
    "kernelspec": {
      "name": "python3",
      "display_name": "Python 3"
    },
    "language_info": {
      "name": "python"
    }
  },
  "cells": [
    {
      "cell_type": "markdown",
      "metadata": {
        "id": "view-in-github",
        "colab_type": "text"
      },
      "source": [
        "<a href=\"https://colab.research.google.com/github/gyerra/AIML-PROJECT-2320040080/blob/main/Labwork.ipynb\" target=\"_parent\"><img src=\"https://colab.research.google.com/assets/colab-badge.svg\" alt=\"Open In Colab\"/></a>"
      ]
    },
    {
      "cell_type": "markdown",
      "source": [
        "Uninformed Search Technique\n",
        "1.DFS\n",
        "2.BFS\n",
        "3.IDS"
      ],
      "metadata": {
        "id": "1W1Im1EgViDI"
      }
    },
    {
      "cell_type": "code",
      "source": [
        "def dfs(graph, start, goal, path=None):\n",
        "    if path is None:\n",
        "        path = []\n",
        "    path.append(start)\n",
        "\n",
        "    if start == goal:\n",
        "        return path\n",
        "\n",
        "    for neighbor in graph[start]:\n",
        "        if neighbor not in path:\n",
        "            result = dfs(graph, neighbor, goal, path)\n",
        "            if result:\n",
        "                return result\n",
        "\n",
        "    path.pop()\n",
        "    return None\n",
        "\n",
        "graph = {\n",
        "    'A': ['B', 'C', 'D'],\n",
        "    'B': ['E', 'F', 'G'],\n",
        "    'C': ['H'],\n",
        "    'D': ['I', 'J', 'K'],\n",
        "    'E': ['L'],\n",
        "    'F': ['M'],\n",
        "    'G': ['N'],\n",
        "    'H': ['O', 'P'],\n",
        "    'I': ['Q', 'R'],\n",
        "    'J': ['S'],\n",
        "    'K': ['T'],\n",
        "    'L': [],\n",
        "    'M': [],\n",
        "    'N': [],\n",
        "    'O': [],\n",
        "    'P': [],\n",
        "    'Q': [],\n",
        "    'R': [],\n",
        "    'S': [],\n",
        "    'T': []\n",
        "}\n",
        "\n",
        "# Perform DFS\n",
        "path_dfs = dfs(graph, 'A', 'P')\n",
        "print(f\"DFS Path: {path_dfs}\")\n"
      ],
      "metadata": {
        "colab": {
          "base_uri": "https://localhost:8080/"
        },
        "id": "VnNjxR1gXMeG",
        "outputId": "340f279b-b555-4ec6-d778-b29a15d0198b"
      },
      "execution_count": null,
      "outputs": [
        {
          "output_type": "stream",
          "name": "stdout",
          "text": [
            "DFS Path: ['A', 'C', 'H', 'P']\n"
          ]
        }
      ]
    },
    {
      "cell_type": "code",
      "source": [
        "def bfs(graph, start, goal):\n",
        "    queue = [[start]]  # Using a list of lists to mimic a queue\n",
        "\n",
        "    while queue:\n",
        "        path = queue.pop(0)  # Remove the first path from the list (FIFO behavior)\n",
        "        node = path[-1]       # Get the last node in the path\n",
        "\n",
        "        if node == goal:\n",
        "            return path\n",
        "\n",
        "        for neighbor in graph[node]:\n",
        "            new_path = list(path)  # Create a new path by copying the current path\n",
        "            new_path.append(neighbor)\n",
        "            queue.append(new_path)  # Add the new path to the end of the list\n",
        "\n",
        "    return None\n",
        "\n",
        "graph = {\n",
        "    'A': ['B', 'C', 'D'],\n",
        "    'B': ['E', 'F', 'G'],\n",
        "    'C': ['H'],\n",
        "    'D': ['I', 'J', 'K'],\n",
        "    'E': ['L'],\n",
        "    'F': ['M'],\n",
        "    'G': ['N'],\n",
        "    'H': ['O', 'P'],\n",
        "    'I': ['Q', 'R'],\n",
        "    'J': ['S'],\n",
        "    'K': ['T'],\n",
        "    'L': [],\n",
        "    'M': [],\n",
        "    'N': [],\n",
        "    'O': [],\n",
        "    'P': [],\n",
        "    'Q': [],\n",
        "    'R': [],\n",
        "    'S': [],\n",
        "    'T': []\n",
        "}\n",
        "\n",
        "# Perform BFS\n",
        "path_bfs = bfs(graph, 'A', 'P')\n",
        "print(f\"BFS Path: {path_bfs}\")\n"
      ],
      "metadata": {
        "colab": {
          "base_uri": "https://localhost:8080/"
        },
        "id": "DfvSEY1XbI-V",
        "outputId": "b7ec561d-bff3-4bc0-96d6-a7872cb5abcc"
      },
      "execution_count": null,
      "outputs": [
        {
          "output_type": "stream",
          "name": "stdout",
          "text": [
            "BFS Path: ['A', 'C', 'H', 'P']\n"
          ]
        }
      ]
    },
    {
      "cell_type": "code",
      "source": [
        "def dls(graph, start, goal, depth, path=None):\n",
        "    if path is None:\n",
        "        path = []\n",
        "    path.append(start)\n",
        "\n",
        "    if start == goal:\n",
        "        return path\n",
        "\n",
        "    if depth <= 0:\n",
        "        path.pop()  # Backtrack\n",
        "        return None\n",
        "\n",
        "    for neighbor in graph[start]:\n",
        "        if neighbor not in path:\n",
        "            result = dls(graph, neighbor, goal, depth - 1, path)\n",
        "            if result:\n",
        "                return result\n",
        "\n",
        "    path.pop()  # Backtrack\n",
        "    return None\n",
        "\n",
        "def ids(graph, start, goal, max_depth):\n",
        "    for depth in range(max_depth):\n",
        "        path = dls(graph, start, goal, depth)\n",
        "        if path:\n",
        "            return path\n",
        "    return None\n",
        "\n",
        "graph = {\n",
        "    'A': ['B', 'C', 'D'],\n",
        "    'B': ['E', 'F', 'G'],\n",
        "    'C': ['H'],\n",
        "    'D': ['I', 'J', 'K'],\n",
        "    'E': ['L'],\n",
        "    'F': ['M'],\n",
        "    'G': ['N'],\n",
        "    'H': ['O', 'P'],\n",
        "    'I': ['Q', 'R'],\n",
        "    'J': ['S'],\n",
        "    'K': ['T'],\n",
        "    'L': [],\n",
        "    'M': [],\n",
        "    'N': [],\n",
        "    'O': [],\n",
        "    'P': [],\n",
        "    'Q': [],\n",
        "    'R': [],\n",
        "    'S': [],\n",
        "    'T': []\n",
        "}\n",
        "\n",
        "path_ids = ids(graph, 'A', 'P', 10)\n",
        "print(f\"IDS Path: {path_ids}\")\n"
      ],
      "metadata": {
        "colab": {
          "base_uri": "https://localhost:8080/"
        },
        "id": "AS2OrHLEcLur",
        "outputId": "4439b24a-a274-46db-b2fb-633686b8797c"
      },
      "execution_count": null,
      "outputs": [
        {
          "output_type": "stream",
          "name": "stdout",
          "text": [
            "IDS Path: ['A', 'C', 'H', 'P']\n"
          ]
        }
      ]
    },
    {
      "cell_type": "markdown",
      "source": [
        "Informed Search Technique\n",
        "1.A*\n",
        "2.BFS"
      ],
      "metadata": {
        "id": "ya8CWVapV1if"
      }
    },
    {
      "cell_type": "code",
      "source": [
        "def a_star(graph, start, goal, h):\n",
        "    open_list = [(start, [start], 0)]\n",
        "    closed_list = []\n",
        "\n",
        "    while open_list:\n",
        "        open_list.sort(key=lambda x: x[2] + h[x[0]])\n",
        "        current_node, path, g_cost = open_list.pop(0)\n",
        "\n",
        "        if current_node == goal:\n",
        "            return path\n",
        "\n",
        "        closed_list.append(current_node)\n",
        "\n",
        "        for neighbor, cost in graph[current_node]:\n",
        "            if neighbor in closed_list:\n",
        "                continue\n",
        "\n",
        "            new_g_cost = g_cost + cost\n",
        "            open_list.append((neighbor, path + [neighbor], new_g_cost))\n",
        "\n",
        "    return None\n",
        "\n",
        "# Graph definition (node: [(neighbor, cost), ...])\n",
        "graph = {\n",
        "    'A': [('B', 1), ('C', 4), ('D', 2)],\n",
        "    'B': [('E', 5), ('F', 3), ('G', 6)],\n",
        "    'C': [('H', 7)],\n",
        "    'D': [('I', 2), ('J', 3), ('K', 4)],\n",
        "    'E': [('L', 4)],\n",
        "    'F': [('M', 6)],\n",
        "    'G': [('N', 2)],\n",
        "    'H': [('O', 1), ('P', 2)],\n",
        "    'I': [('Q', 3), ('R', 4)],\n",
        "    'J': [('S', 5)],\n",
        "    'K': [('T', 6)],\n",
        "    'L': [],\n",
        "    'M': [],\n",
        "    'N': [],\n",
        "    'O': [],\n",
        "    'P': [],\n",
        "    'Q': [],\n",
        "    'R': [],\n",
        "    'S': [],\n",
        "    'T': []\n",
        "}\n",
        "\n",
        "h = {\n",
        "    'A': 10, 'B': 8, 'C': 7, 'D': 6, 'E': 6, 'F': 5, 'G': 4, 'H': 3, 'I': 6, 'J': 5, 'K': 4,\n",
        "    'L': 5, 'M': 3, 'N': 4, 'O': 2, 'P': 0, 'Q': 4, 'R': 5, 'S': 3, 'T': 5\n",
        "}\n",
        "\n",
        "# Perform A* search\n",
        "path_a_star = a_star(graph, 'A', 'P', h)\n",
        "print(f\"A* Path: {path_a_star}\")\n"
      ],
      "metadata": {
        "colab": {
          "base_uri": "https://localhost:8080/"
        },
        "id": "AdyiZlvLcRVE",
        "outputId": "1ef0d569-80f6-4eae-f4c3-3a301a894f1e"
      },
      "execution_count": null,
      "outputs": [
        {
          "output_type": "stream",
          "name": "stdout",
          "text": [
            "A* Path: ['A', 'C', 'H', 'P']\n"
          ]
        }
      ]
    },
    {
      "cell_type": "code",
      "source": [
        "def best_first_search(graph, start, goal, h):\n",
        "    open_list = [(start, [start])]\n",
        "    closed_list = []\n",
        "\n",
        "    while open_list:\n",
        "        # Sort the open list by heuristic value (h[n])\n",
        "        open_list.sort(key=lambda x: h[x[0]])\n",
        "        current_node, path = open_list.pop(0)\n",
        "\n",
        "        if current_node == goal:\n",
        "            return path\n",
        "\n",
        "        closed_list.append(current_node)\n",
        "\n",
        "        for neighbor, cost in graph[current_node]:\n",
        "            if neighbor not in closed_list:\n",
        "                open_list.append((neighbor, path + [neighbor]))\n",
        "\n",
        "    return None\n",
        "\n",
        "# Graph definition (node: [(neighbor, cost), ...])\n",
        "graph = {\n",
        "    'A': [('B', 1), ('C', 4), ('D', 2)],\n",
        "    'B': [('E', 5), ('F', 3), ('G', 6)],\n",
        "    'C': [('H', 7)],\n",
        "    'D': [('I', 2), ('J', 3), ('K', 4)],\n",
        "    'E': [('L', 4)],\n",
        "    'F': [('M', 6)],\n",
        "    'G': [('N', 2)],\n",
        "    'H': [('O', 1), ('P', 2)],\n",
        "    'I': [('Q', 3), ('R', 4)],\n",
        "    'J': [('S', 5)],\n",
        "    'K': [('T', 6)],\n",
        "    'L': [],\n",
        "    'M': [],\n",
        "    'N': [],\n",
        "    'O': [],\n",
        "    'P': [],\n",
        "    'Q': [],\n",
        "    'R': [],\n",
        "    'S': [],\n",
        "    'T': []\n",
        "}\n",
        "\n",
        "\n",
        "h = {\n",
        "    'A': 10, 'B': 8, 'C': 7, 'D': 6, 'E': 6, 'F': 5, 'G': 4, 'H': 3, 'I': 6, 'J': 5, 'K': 4,\n",
        "    'L': 5, 'M': 3, 'N': 4, 'O': 2, 'P': 0, 'Q': 4, 'R': 5, 'S': 3, 'T': 5\n",
        "}\n",
        "\n",
        "# Perform Best-First Search\n",
        "path_best_first = best_first_search(graph, 'A', 'P', h)\n",
        "print(f\"Best-First Search Path: {path_best_first}\")\n"
      ],
      "metadata": {
        "id": "W6g0TAhWcuIw"
      },
      "execution_count": null,
      "outputs": []
    },
    {
      "cell_type": "markdown",
      "source": [
        "Adversarial Search TEchnique\n",
        "1.Min-MAx\n",
        "2.Alpha-Beta"
      ],
      "metadata": {
        "id": "wMYgUzpYV7gM"
      }
    },
    {
      "cell_type": "code",
      "source": [
        "def min_max(graph, node, is_maximizing):\n",
        "    if node not in graph or not graph[node]:\n",
        "        return evaluate(node)\n",
        "\n",
        "    if is_maximizing:\n",
        "        best_value = float('-inf')\n",
        "        for child in graph[node]:\n",
        "            value = min_max(graph, child, False)\n",
        "            best_value = max(best_value, value)\n",
        "        return best_value\n",
        "    else:\n",
        "        best_value = float('inf')\n",
        "        for child in graph[node]:\n",
        "            value = min_max(graph, child, True)\n",
        "            best_value = min(best_value, value)\n",
        "        return best_value\n",
        "\n",
        "def evaluate(node):\n",
        "    goal_node = 'P'\n",
        "    if node == goal_node:\n",
        "        return 1  # Goal node (P) has the highest value\n",
        "    else:\n",
        "        return 0  # Other nodes have a value of 0\n",
        "\n",
        "graph = {\n",
        "    'A': ['B', 'C', 'D'],\n",
        "    'B': ['E', 'F', 'G'],\n",
        "    'C': ['H'],\n",
        "    'D': ['I', 'J', 'K'],\n",
        "    'E': ['L'],\n",
        "    'F': ['M'],\n",
        "    'G': ['N'],\n",
        "    'H': ['O', 'P'],\n",
        "    'I': ['Q', 'R'],\n",
        "    'J': ['S'],\n",
        "    'K': ['T'],\n",
        "    'L': [],\n",
        "    'M': [],\n",
        "    'N': [],\n",
        "    'O': [],\n",
        "    'P': [],\n",
        "    'Q': [],\n",
        "    'R': [],\n",
        "    'S': [],\n",
        "    'T': []\n",
        "}\n",
        "\n",
        "# Perform Min-Max search starting from node 'A'\n",
        "result = min_max(graph, 'A', True)\n",
        "print(f\"Min-Max Result: {result}\")\n"
      ],
      "metadata": {
        "colab": {
          "base_uri": "https://localhost:8080/"
        },
        "id": "qqCcpEe9eT8d",
        "outputId": "83cd3674-970e-4c3d-cc55-3bce62aa562f"
      },
      "execution_count": null,
      "outputs": [
        {
          "output_type": "stream",
          "name": "stdout",
          "text": [
            "Min-Max Result: 1\n"
          ]
        }
      ]
    },
    {
      "cell_type": "code",
      "source": [
        "def alpha_beta(graph, node, depth, alpha, beta, is_maximizing):\n",
        "    if node not in graph or not graph[node]:\n",
        "        return evaluate(node)\n",
        "\n",
        "    if is_maximizing:\n",
        "        best_value = float('-inf')\n",
        "        for child in graph[node]:\n",
        "            value = alpha_beta(graph, child, depth + 1, alpha, beta, False)\n",
        "            best_value = max(best_value, value)\n",
        "            alpha = max(alpha, best_value)\n",
        "            if beta <= alpha:\n",
        "                break  # Beta cutoff\n",
        "        return best_value\n",
        "    else:\n",
        "        best_value = float('inf')\n",
        "        for child in graph[node]:\n",
        "            value = alpha_beta(graph, child, depth + 1, alpha, beta, True)\n",
        "            best_value = min(best_value, value)\n",
        "            beta = min(beta, best_value)\n",
        "            if beta <= alpha:\n",
        "                break  # Alpha cutoff\n",
        "        return best_value\n",
        "\n",
        "def evaluate(node):\n",
        "    goal_node = 'P'\n",
        "    if node == goal_node:\n",
        "        return 1  # Goal node (P) has the highest value\n",
        "    else:\n",
        "        return 0  # Other nodes have a value of 0\n",
        "\n",
        "# Graph definition\n",
        "graph = {\n",
        "    'A': ['B', 'C', 'D'],\n",
        "    'B': ['E', 'F', 'G'],\n",
        "    'C': ['H'],\n",
        "    'D': ['I', 'J', 'K'],\n",
        "    'E': ['L'],\n",
        "    'F': ['M'],\n",
        "    'G': ['N'],\n",
        "    'H': ['O', 'P'],\n",
        "    'I': ['Q', 'R'],\n",
        "    'J': ['S'],\n",
        "    'K': ['T'],\n",
        "    'L': [],\n",
        "    'M': [],\n",
        "    'N': [],\n",
        "    'O': [],\n",
        "    'P': [],\n",
        "    'Q': [],\n",
        "    'R': [],\n",
        "    'S': [],\n",
        "    'T': []\n",
        "}\n",
        "\n",
        "# Perform Alpha-Beta search starting from node 'A'\n",
        "result = alpha_beta(graph, 'A', 0, float('-inf'), float('inf'), True)\n",
        "print(f\"Alpha-Beta Result: {result}\")\n"
      ],
      "metadata": {
        "colab": {
          "base_uri": "https://localhost:8080/"
        },
        "id": "MsYs0Kbwg8uJ",
        "outputId": "8b1b5b56-7b64-4e38-9fb1-baf6ae87e87f"
      },
      "execution_count": null,
      "outputs": [
        {
          "output_type": "stream",
          "name": "stdout",
          "text": [
            "Alpha-Beta Result: 1\n"
          ]
        }
      ]
    },
    {
      "cell_type": "markdown",
      "source": [
        "Map-Coloring"
      ],
      "metadata": {
        "id": "Gld1hT_Mmu5E"
      }
    },
    {
      "cell_type": "code",
      "source": [
        "# Define\n",
        "graph = {\n",
        "    'A': ['B', 'C', 'D'],\n",
        "    'B': ['A', 'C', 'E'],\n",
        "    'C': ['A', 'B', 'D', 'E'],\n",
        "    'D': ['A', 'C', 'E'],\n",
        "    'E': ['B', 'C', 'D']\n",
        "}\n",
        "\n",
        "# Define the colors available\n",
        "colors = ['Red', 'Green', 'Blue', 'Yellow']\n",
        "\n",
        "def is_safe(node, color, assignment):\n",
        "    for neighbor in graph[node]:\n",
        "        if neighbor in assignment and assignment[neighbor] == color:\n",
        "            return False\n",
        "    return True\n",
        "\n",
        "# Backtracking function\n",
        "def map_coloring(node, assignment):\n",
        "    # If all nodes are assigned a color, return True\n",
        "    if len(assignment) == len(graph):\n",
        "        return True\n",
        "\n",
        "    for color in colors:\n",
        "        if is_safe(node, color, assignment):\n",
        "            assignment[node] = color\n",
        "\n",
        "            uncolored_nodes = [n for n in graph if n not in assignment]\n",
        "\n",
        "            if not uncolored_nodes or map_coloring(uncolored_nodes[0], assignment):\n",
        "                return True\n",
        "\n",
        "            # If assigning this color doesn't lead to a solution, backtrack\n",
        "            del assignment[node]\n",
        "\n",
        "    return False\n",
        "\n",
        "# Main function to solve the map coloring problem\n",
        "def solve_map_coloring():\n",
        "    assignment = {}\n",
        "    start_node = list(graph.keys())[0]\n",
        "    if map_coloring(start_node, assignment):\n",
        "        return assignment\n",
        "    else:\n",
        "        return \"No solution found.\"\n",
        "\n",
        "# Run the map coloring solver\n",
        "solution = solve_map_coloring()\n",
        "print(\"Map Coloring Solution:\")\n",
        "for region, color in solution.items():\n",
        "    print(f\"Region {region}: {color}\")"
      ],
      "metadata": {
        "colab": {
          "base_uri": "https://localhost:8080/"
        },
        "id": "0JR4deQlmtfV",
        "outputId": "ff253287-bcfe-4a89-b1b6-777ddfa3daae"
      },
      "execution_count": null,
      "outputs": [
        {
          "output_type": "stream",
          "name": "stdout",
          "text": [
            "Map Coloring Solution:\n",
            "Region A: Red\n",
            "Region B: Green\n",
            "Region C: Blue\n",
            "Region D: Green\n",
            "Region E: Red\n"
          ]
        }
      ]
    },
    {
      "cell_type": "markdown",
      "source": [
        "Mapcoloring"
      ],
      "metadata": {
        "id": "HG4NhTytVkug"
      }
    },
    {
      "cell_type": "code",
      "source": [
        "# Define the map of Australia with neighboring regions\n",
        "australia_map = {\n",
        "    'WA': ['NT', 'SA'],\n",
        "    'NT': ['WA', 'SA', 'QLD'],\n",
        "    'SA': ['WA', 'NT', 'QLD', 'NSW', 'VIC'],\n",
        "    'QLD': ['NT', 'SA', 'NSW'],\n",
        "    'NSW': ['QLD', 'SA', 'VIC'],\n",
        "    'VIC': ['SA', 'NSW'],\n",
        "    'TAS': []\n",
        "}\n",
        "\n",
        "colors = ['Red', 'Green', 'Blue']\n",
        "\n",
        "def is_valid(region, color, assignment):\n",
        "    for neighbor in australia_map[region]:\n",
        "        if neighbor in assignment and assignment[neighbor] == color:\n",
        "            return False\n",
        "    return True\n",
        "\n",
        "def backtrack(assignment):\n",
        "    if len(assignment) == len(australia_map):\n",
        "        return assignment\n",
        "\n",
        "    unassigned = [region for region in australia_map if region not in assignment]\n",
        "    region = unassigned[0]\n",
        "\n",
        "    for color in colors:\n",
        "        if is_valid(region, color, assignment):\n",
        "            assignment[region] = color\n",
        "            result = backtrack(assignment)\n",
        "            if result:\n",
        "                return result\n",
        "            assignment.pop(region)\n",
        "\n",
        "    return None\n",
        "\n",
        "solution = backtrack({})\n",
        "\n",
        "if solution:\n",
        "    print(\"Solution found:\")\n",
        "    for region, color in solution.items():\n",
        "        print(f\"{region}: {color}\")\n",
        "else:\n",
        "    print(\"No solution found.\")\n"
      ],
      "metadata": {
        "colab": {
          "base_uri": "https://localhost:8080/"
        },
        "id": "PNFPsOYrVe3y",
        "outputId": "795889f0-5934-4e56-d9b2-a7e8bb520a45"
      },
      "execution_count": 1,
      "outputs": [
        {
          "output_type": "stream",
          "name": "stdout",
          "text": [
            "Solution found:\n",
            "WA: Red\n",
            "NT: Green\n",
            "SA: Blue\n",
            "QLD: Red\n",
            "NSW: Green\n",
            "VIC: Red\n",
            "TAS: Red\n"
          ]
        }
      ]
    }
  ]
}